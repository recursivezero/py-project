{
 "cells": [
  {
   "cell_type": "markdown",
   "id": "8937498f",
   "metadata": {},
   "source": [
    "# 1. Model Context Protocol (MCP): A friendly primer for builders\n",
    "\n",
    "## What is MCP?\n",
    "\n",
    "**MODEL**: Refers to a large language model or an AI model <br/>\n",
    "**CONTEXT**: The data or relevant information (which is given to the AI model)<br/>\n",
    "**PROTOCOL**: A set of rules or standards.\n",
    "\n",
    "1. **Open protocol** for connecting **AI applications (\"clients/hosts\")** to **capability providers (\"servers\")**.\n",
    "2. State is managed through sessions, with tools, resources, and prompts enumerated and invoked over JSON-RPC.\n",
    "3. Not tied to any single model vendor.\n",
    "\n",
    "![MCP Client and Server](./images/hld.png)\n",
    "\n",
    "> #### In Short: It is an **extremely convenient integration layer**\n",
    "\n",
    "Or, a better analogy as Anthropic describes it like\n",
    "\n",
    "> #### A USB-C port for AI models, i.e., one universal way to connect and interact.\n",
    "\n",
    "### High level architecture\n",
    "\n",
    "![MCP Client and Server](./images/mcp.png)\n",
    "\n",
    "### MCP servers components\n",
    "\n",
    "1. **Resources**: Expose data through Resources (think of these sort of like GET endpoints; they are used to load information into the LLM's context)\n",
    "2. **Tools**: Provide functionality through Tools (sort of like POST endpoints; they are used to execute code or otherwise produce a side effect)\n",
    "3. **Prompts**: Define interaction patterns through Prompts (reusable templates for LLM interactions)\n",
    "\n",
    "## Why it exists?\n",
    "\n",
    "- To stop re-writing customized REST/gRPC adapters every time you swap models, hosts, or tool stacks;\n",
    "- To make agent features portable and discoverable.\n",
    "\n",
    "## What's wrong with good ol' REST/gRPC?\n",
    "\n",
    "- **Tight coupling**: Each tool integration is a snowflake, tightly coupled to a specific model, host app, or runtime.\n",
    "- **Lack of standardization**: No common contract for how tools and resources are defined and invoked.\n",
    "- **Poor portability**: Tool integrations often **need to be re-written** when switching models or hosts.\n",
    "- **Discoverability challenges**: Agents can't easily **enumerate available tools/resources** at runtime without custom documentation or SDKs.\n",
    "\n",
    "## What it’s not?\n",
    "\n",
    "- Model API, a vector DB, or an agent framework.\n",
    "- It’s _**the wiring**_, _not the brain_.\n"
   ]
  },
  {
   "cell_type": "markdown",
   "id": "975978ea",
   "metadata": {},
   "source": [
    "# 2. FastAPI Backend [Simple To-do App]\n",
    "\n",
    "### Accessible as a Local MCP Server\n"
   ]
  },
  {
   "cell_type": "code",
   "execution_count": null,
   "id": "18b19695",
   "metadata": {},
   "outputs": [],
   "source": []
  },
  {
   "cell_type": "markdown",
   "id": "7d76280f",
   "metadata": {},
   "source": [
    "Source Code: [./demo/api/main.py](./demo/api/main.py)\n"
   ]
  },
  {
   "cell_type": "markdown",
   "id": "21889815",
   "metadata": {},
   "source": [
    "# 1. Setup and Prerequisites\n",
    "\n",
    "## Clone the repository\n",
    "\n",
    "```bash\n",
    "git clone https://github.com/PrateekKumarSingh/presentations.git\n",
    "cd ./presentations/\n",
    "```\n",
    "\n",
    "### Create a virtual environment\n",
    "\n",
    "1. Select Python Kernel in Jupyter Notebook (top-right corner)\n",
    "2. Choose \"Python environment\" and select \"Create python environment\"\n",
    "3. choose \"Venv Creates a 'venv' environment...\"\n",
    "4. Select the base interpreter (Python 3.13 or above)\n",
    "5. Now select \"9-integrating-MCP-with-Github-Copilot/requirements.txt\" as the requirements file\n",
    "6. Click on \"OK\" and wait for the environment to be created\n",
    "\n",
    "### Activate virtual environment\n",
    "\n",
    "```bashMacMac\n",
    ".venv\\Scripts\\activate # Windows\n",
    "source .venv/bin/activate # Linux/Mac\n",
    "```\n",
    "\n",
    "### Install SQLite viewer Extension in VSCode\n",
    "\n",
    "https://marketplace.visualstudio.com/items?itemName=qwtel.sqlite-viewer\n",
    "\n",
    "### Install the requirements (NOT REQUIRED if you have created the environment using Jupyter)\n",
    "\n",
    "```bash\n",
    "python3 -m pip install --upgrade pip && pip install -r requirements.txt\n",
    "```\n"
   ]
  },
  {
   "cell_type": "code",
   "execution_count": null,
   "id": "acfe4360",
   "metadata": {},
   "outputs": [],
   "source": []
  },
  {
   "cell_type": "code",
   "execution_count": null,
   "id": "08c7deec",
   "metadata": {},
   "outputs": [],
   "source": []
  },
  {
   "cell_type": "code",
   "execution_count": null,
   "id": "1c2e87ed",
   "metadata": {},
   "outputs": [],
   "source": []
  },
  {
   "cell_type": "code",
   "execution_count": null,
   "id": "d87dba9d",
   "metadata": {},
   "outputs": [],
   "source": []
  },
  {
   "cell_type": "markdown",
   "id": "5b0f866f",
   "metadata": {},
   "source": [
    "### Running the Fast API server\n",
    "\n",
    "```bash\n",
    "uvicorn 9-Integrating-MCP-with-Github-Copilot.demo.api.main:app --reload --port 9000\n",
    "```\n"
   ]
  },
  {
   "cell_type": "markdown",
   "id": "d9ff01fa",
   "metadata": {},
   "source": [
    "### Lets Review the API Endpoints\n"
   ]
  },
  {
   "cell_type": "markdown",
   "id": "37ece89b",
   "metadata": {},
   "source": [
    "SwaggerUI OpenAPI docs at: http://127.0.0.1:9000/docs\n"
   ]
  },
  {
   "cell_type": "markdown",
   "id": "c8761eb6",
   "metadata": {},
   "source": [
    "## Create To-dos with the FastAPI endpoints\n"
   ]
  },
  {
   "cell_type": "code",
   "execution_count": 5,
   "id": "9862dcae",
   "metadata": {},
   "outputs": [
    {
     "name": "stdout",
     "output_type": "stream",
     "text": [
      "List: [{'completed': False, 'id': 1, 'title': 'Set up dev environment'}, {'completed': False, 'id': 2, 'title': 'Write FastAPI endpoints'}, {'completed': False, 'id': 3, 'title': 'Test API with requests'}, {'completed': False, 'id': 4, 'title': 'Document API usage'}, {'completed': False, 'id': 5, 'title': 'Push code to GitHub'}]\n"
     ]
    }
   ],
   "source": [
    "import requests\n",
    "\n",
    "# Create developer items in to-do list\n",
    "todos = [\n",
    "    {\"title\": \"Set up dev environment\", \"completed\": False},\n",
    "    {\"title\": \"Write FastAPI endpoints\", \"completed\": False},\n",
    "    {\"title\": \"Test API with requests\", \"completed\": False},\n",
    "    {\"title\": \"Document API usage\", \"completed\": False},\n",
    "    {\"title\": \"Push code to GitHub\", \"completed\": False},\n",
    "]\n",
    "\n",
    "for todo in todos:\n",
    "    resp = requests.post(\"http://127.0.0.1:9000/todos/\", json=todo)\n",
    "\n",
    "# List all to-dos\n",
    "all = requests.get(\"http://127.0.0.1:9000/todos/\")\n",
    "print(\"List:\", all.json())"
   ]
  },
  {
   "cell_type": "markdown",
   "id": "e0223ca6",
   "metadata": {},
   "source": [
    "## Delete To-dos with the FastAPI endpoints\n"
   ]
  },
  {
   "cell_type": "code",
   "execution_count": 4,
   "id": "07f7279e",
   "metadata": {},
   "outputs": [
    {
     "name": "stdout",
     "output_type": "stream",
     "text": [
      "Deleted to-do id:1\n",
      "Deleted to-do id:2\n",
      "Deleted to-do id:3\n",
      "Deleted to-do id:4\n",
      "Deleted to-do id:5\n",
      "Deleted to-do id:6\n",
      "Deleted to-do id:7\n",
      "Deleted to-do id:8\n",
      "Deleted to-do id:9\n",
      "Deleted to-do id:10\n",
      "Deleted to-do id:11\n",
      "Deleted to-do id:12\n",
      "Deleted to-do id:13\n",
      "Deleted to-do id:14\n",
      "Deleted to-do id:15\n",
      "Deleted to-do id:16\n",
      "Deleted to-do id:17\n",
      "Deleted to-do id:18\n",
      "Deleted to-do id:19\n",
      "Deleted to-do id:20\n",
      "Deleted to-do id:21\n"
     ]
    }
   ],
   "source": [
    "# Cleanup all created items\n",
    "for item in all.json():\n",
    "    resp = requests.delete(f\"http://127.0.0.1:9000/todos/{item['id']}\")\n",
    "    if resp.status_code == 200:\n",
    "        print(f\"Deleted to-do id:{item['id']}\")\n",
    "    else:\n",
    "        print(f\"Failed to delete to-do id:{item['id']}\")"
   ]
  },
  {
   "cell_type": "markdown",
   "id": "463fa73c",
   "metadata": {},
   "source": [
    "# 3. Flask Web Application [Simple To-do App]\n",
    "\n",
    "Source Code: [./demo/webapp/app.py](./demo/webapp/app.py)\n"
   ]
  },
  {
   "cell_type": "markdown",
   "id": "24d0f718",
   "metadata": {},
   "source": [
    "### Running the web application\n"
   ]
  },
  {
   "cell_type": "code",
   "execution_count": null,
   "id": "e1abaaca",
   "metadata": {},
   "outputs": [],
   "source": [
    "python ./9-Integrating-MCP-with-Github-Copilot/demo/webapp/app.py"
   ]
  },
  {
   "cell_type": "markdown",
   "id": "57d003b3",
   "metadata": {},
   "source": [
    "### Once the web app is running\n",
    "\n",
    "Open the browser and navigate to http://127.0.0.1:5000\n"
   ]
  },
  {
   "cell_type": "markdown",
   "id": "852b1591",
   "metadata": {},
   "source": [
    "### Install Playwright MCP\n",
    "\n",
    "1. Go to: [https://code.visualstudio.com/mcp](https://code.visualstudio.com/mcp)\n",
    "2. Under Developer Tools, Click on \"Install Playwright MCP Extension\"\n",
    "3. Open VSCode\n"
   ]
  },
  {
   "cell_type": "markdown",
   "id": "c40df6f5",
   "metadata": {},
   "source": [
    "### Working with Playwright MCP in VSCode\n",
    "\n",
    "Now Prompt the Github Copilot examine the web app\n",
    "\n",
    "#### READ\n",
    "\n",
    "```text\n",
    "Review my web app at http://127.0.0.1:5000 and list all the todos and their status\n",
    "```\n",
    "\n",
    "#### CREATE\n",
    "\n",
    "```text\n",
    "Add a new todo with title \"Learn to build MCP clients with Python SDK\" and mark it as not completed\n",
    "```\n",
    "\n",
    "#### END TO END TESTING (With screenshots)\n",
    "\n",
    "```text\n",
    "lets do a cleanup of all todos from backend\n",
    "\n",
    "then, create 5 new todos in web app which a grocery list to prepare 'pancakes',\n",
    "test all user flows scenarios: 1) create, 2) update, 3) mark as completed\n",
    "Capture screenshot with date time with before/after screenshots\n",
    "\n",
    "```\n"
   ]
  },
  {
   "cell_type": "markdown",
   "id": "00eb1df3",
   "metadata": {},
   "source": [
    "# [Optional] 4. Create Playwright Tests for the Webapp\n",
    "\n",
    "## Prompt Github Copilot to generate the tests\n",
    "\n",
    "```text\n",
    "Write Playwright tests for my Flask+FastAPI todo webapp that are robust and comprehensive.\n",
    "The app is accessible at http://127.0.0.1:5000, review this app thoroughly to understand its structure.\n",
    "\n",
    "The tests should:\n",
    "\n",
    "- Wait for all necessary elements to appear before interacting.\n",
    "- Use selectors that match my actual HTML (e.g., input[name='title'], button[type='submit'], list items, etc.).\n",
    "- Test adding, listing, completing, and (if supported) deleting todos.\n",
    "- Assert that UI updates are visible after each action (e.g., new todo appears, completed badge shows).\n",
    "- Handle empty states and edge cases (e.g., adding duplicate todos, submitting empty input).\n",
    "- Include clear error messages for failed assertions.\n",
    "- Clean up after themselves if possible (e.g., remove test todos).\n",
    "- Fail gracefully if the server is not running or the page does not load.\n",
    "- Use Playwright's recommended best practices for waiting, assertions, and error handling.\n",
    "\n",
    "Generate the test code in Python file which I can run through CLI, and explain any assumptions about the UI structure.\n",
    "```\n"
   ]
  }
 ],
 "metadata": {
  "kernelspec": {
   "display_name": "Python 3",
   "language": "python",
   "name": "python3"
  },
  "language_info": {
   "codemirror_mode": {
    "name": "ipython",
    "version": 3
   },
   "file_extension": ".py",
   "mimetype": "text/x-python",
   "name": "python",
   "nbconvert_exporter": "python",
   "pygments_lexer": "ipython3",
   "version": "3.13.1"
  }
 },
 "nbformat": 4,
 "nbformat_minor": 5
}
